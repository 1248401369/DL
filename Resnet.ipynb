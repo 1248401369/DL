{
 "cells": [
  {
   "cell_type": "code",
   "execution_count": 91,
   "metadata": {},
   "outputs": [],
   "source": [
    "from torch import nn\n",
    "import torch as t\n",
    "from torch.nn import functional as F"
   ]
  },
  {
   "cell_type": "code",
   "execution_count": 110,
   "metadata": {},
   "outputs": [
    {
     "name": "stdout",
     "output_type": "stream",
     "text": [
      "Variable containing:\n",
      " 0.2474 -0.0066  0.2507  ...   0.3043 -0.6238  0.0425\n",
      "[torch.FloatTensor of size 1x1000]\n",
      "\n"
     ]
    }
   ],
   "source": [
    "class ResidualBlock(nn.Module):\n",
    "    def __init__(self,inchannel,outchannel,stride=1,shortcut=None):\n",
    "        super(ResidualBlock,self).__init__()\n",
    "        self.left=nn.Sequential(\n",
    "                nn.Conv2d(inchannel,outchannel,3,stride,1,bias=False)\n",
    "                ,\n",
    "                nn.BatchNorm2d(outchannel),\n",
    "                nn.ReLU(inplace=True),\n",
    "                nn.Conv2d(outchannel,outchannel,3,1,1,bias=False),\n",
    "                nn.BatchNorm2d(outchannel))\n",
    "        self.right=shortcut\n",
    "        \n",
    "    def forward(self,x):\n",
    "        out=self.left(x)\n",
    "        residual=x if self.right is None else self.right(x)\n",
    "        out+=residual\n",
    "        return F.relu(out)\n",
    "    \n",
    "class ResNet(nn.Module):\n",
    "    def __init__(self,num_classes=1000): \n",
    "        super(ResNet,self).__init__()\n",
    "        self.pre=nn.Sequential(\n",
    "                nn.Conv2d(3,64,7,2,3,bias=False),\n",
    "                nn.BatchNorm2d(64),\n",
    "                nn.ReLU(inplace=True),\n",
    "                nn.MaxPool2d(3,2,1))\n",
    "        self.layer1=self._make_layer(64,128,3)\n",
    "        self.layer2=self._make_layer(128,256,4,stride=2)\n",
    "        self.layer3=self._make_layer(256,512,6,stride=2)\n",
    "        self.layer4=self._make_layer(512,512,3,stride=2)\n",
    "    \n",
    "        self.fc=nn.Linear(512,num_classes)\n",
    "    def _make_layer(self,inchannel,outchannel,block_num,stride=1):\n",
    "        shortcut=nn.Sequential(\n",
    "               nn.Conv2d(inchannel,outchannel,1,stride,bias=False),\n",
    "               nn.BatchNorm2d(outchannel))\n",
    "        \n",
    "        layers=[]\n",
    "        layers.append(ResidualBlock(inchannel,outchannel,stride,shortcut))\n",
    "        \n",
    "        for i in range(1,block_num):\n",
    "           layers.append(ResidualBlock(outchannel,outchannel))\n",
    "        return nn.Sequential(*layers)\n",
    "           \n",
    "    def forward(self,x):\n",
    "           x=self.pre(x)\n",
    "           \n",
    "           x=self.layer1(x)\n",
    "           x=self.layer2(x)\n",
    "           x=self.layer3(x)\n",
    "           x=self.layer4(x)\n",
    "           \n",
    "           x=F.avg_pool2d(x,7)\n",
    "           x=x.view(x.size(0),-1)\n",
    "           return self.fc(x)\n",
    "\n",
    "    \n",
    "model=ResNet()\n",
    "input=t.autograd.Variable(t.randn(1,3,224,224))\n",
    "o=model(input)\n",
    "print(o)"
   ]
  }
 ],
 "metadata": {
  "kernelspec": {
   "display_name": "Python 3",
   "language": "python",
   "name": "python3"
  },
  "language_info": {
   "codemirror_mode": {
    "name": "ipython",
    "version": 3
   },
   "file_extension": ".py",
   "mimetype": "text/x-python",
   "name": "python",
   "nbconvert_exporter": "python",
   "pygments_lexer": "ipython3",
   "version": "3.6.5"
  }
 },
 "nbformat": 4,
 "nbformat_minor": 2
}
