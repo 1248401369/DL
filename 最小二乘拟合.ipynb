{
 "cells": [
  {
   "cell_type": "code",
   "execution_count": 6,
   "metadata": {},
   "outputs": [],
   "source": [
    "import torch as t\n",
    "%matplotlib inline\n",
    "from matplotlib import pyplot as plt\n",
    "from IPython import display\n",
    "\n",
    "t.manual_seed(1000)\n",
    "def get_fake_data(batch_size=8):\n",
    "    x=t.rand(batch_size,1)*20\n",
    "    y=x*2+(1+t.randn(batch_size,1))*3\n",
    "    return x,y"
   ]
  },
  {
   "cell_type": "code",
   "execution_count": null,
   "metadata": {},
   "outputs": [],
   "source": [
    "x,y=get_fake_data()"
   ]
  },
  {
   "cell_type": "code",
   "execution_count": 14,
   "metadata": {},
   "outputs": [
    {
     "data": {
      "text/plain": [
       "\n",
       "  3.1577\n",
       " 12.2072\n",
       " 17.9951\n",
       " 14.5924\n",
       " 18.9647\n",
       " 19.9044\n",
       " 18.6500\n",
       " 13.0991\n",
       "[torch.FloatTensor of size 8x1]"
      ]
     },
     "execution_count": 14,
     "metadata": {},
     "output_type": "execute_result"
    }
   ],
   "source": [
    "x"
   ]
  },
  {
   "cell_type": "code",
   "execution_count": 8,
   "metadata": {
    "scrolled": true
   },
   "outputs": [
    {
     "data": {
      "text/plain": [
       "\n",
       " 18.5392\n",
       " 22.3163\n",
       " 18.3613\n",
       " 15.6808\n",
       "  7.9078\n",
       " 29.7957\n",
       " 23.7576\n",
       " 20.0180\n",
       "[torch.FloatTensor of size 8x1]"
      ]
     },
     "execution_count": 8,
     "metadata": {},
     "output_type": "execute_result"
    }
   ],
   "source": [
    "y"
   ]
  },
  {
   "cell_type": "code",
   "execution_count": 9,
   "metadata": {},
   "outputs": [
    {
     "data": {
      "text/plain": [
       "<matplotlib.collections.PathCollection at 0x540afd0>"
      ]
     },
     "execution_count": 9,
     "metadata": {},
     "output_type": "execute_result"
    },
    {
     "data": {
      "image/png": "[encoded data removed]",
      "text/plain": [
       "<Figure size 432x288 with 1 Axes>"
      ]
     },
     "metadata": {},
     "output_type": "display_data"
    }
   ],
   "source": [
    "plt.scatter(x.squeeze().numpy(),y.squeeze().numpy())"
   ]
  },
  {
   "cell_type": "code",
   "execution_count": 21,
   "metadata": {
    "scrolled": true
   },
   "outputs": [
    {
     "data": {
      "image/png": "[encoded data removed]",
      "text/plain": [
       "<Figure size 432x288 with 1 Axes>"
      ]
     },
     "metadata": {},
     "output_type": "display_data"
    },
    {
     "name": "stdout",
     "output_type": "stream",
     "text": [
      "2.002969741821289 3.033106803894043\n"
     ]
    }
   ],
   "source": [
    "w=t.rand(1,1)\n",
    "b=t.zeros(1,1)\n",
    "lr=0.001\n",
    "\n",
    "for ii in range(20000):          \n",
    "    x,y=get_fake_data()\n",
    "    #forward:\n",
    "    y_pred=x.mm(w)+b.expand_as(y)\n",
    "    loss=0.5*(y_pred-y)**2\n",
    "    loss=loss.sum()\n",
    "    \n",
    "    dloss=1\n",
    "    dy_pred=dloss*(y_pred-y)\n",
    "    \n",
    "    dw=x.t().mm(dy_pred)\n",
    "    db=dy_pred.sum()\n",
    "    \n",
    "    w.sub_(lr*dw)\n",
    "    b.sub_(lr*db)\n",
    "    \n",
    "    if ii%1000==0:\n",
    "        display.clear_output(wait=True)\n",
    "        x=t.arange(0,20).view(-1,1)\n",
    "        y=x.mm(w)+b.expand_as(x)\n",
    "        plt.plot(x.numpy(),y.numpy())#predicted\n",
    "        \n",
    "        x2,y2=get_fake_data(batch_size=20)\n",
    "        plt.scatter(x2.numpy(),y2.numpy())#true data\n",
    "        \n",
    "        plt.xlim(0,20)\n",
    "        plt.ylim(0,41)\n",
    "        plt.show()\n",
    "        plt.pause(0.5)\n",
    "        print(w.squeeze()[0],b.squeeze()[0])"
   ]
  },
  {
   "cell_type": "code",
   "execution_count": null,
   "metadata": {},
   "outputs": [],
   "source": []
  }
 ],
 "metadata": {
  "kernelspec": {
   "display_name": "Python 3",
   "language": "python",
   "name": "python3"
  },
  "language_info": {
   "codemirror_mode": {
    "name": "ipython",
    "version": 3
   },
   "file_extension": ".py",
   "mimetype": "text/x-python",
   "name": "python",
   "nbconvert_exporter": "python",
   "pygments_lexer": "ipython3",
   "version": "3.6.5"
  }
 },
 "nbformat": 4,
 "nbformat_minor": 2
}
